{
 "cells": [
  {
   "cell_type": "markdown",
   "metadata": {},
   "source": [
    "1. Create a python class called Employee with attributes name, position, and salary, and a method display() that prints all the details both methods: a) Ask User b) Parameter passing."
   ]
  },
  {
   "cell_type": "code",
   "execution_count": 5,
   "metadata": {},
   "outputs": [
    {
     "name": "stdout",
     "output_type": "stream",
     "text": [
      "Employee Name : Simon Tamang\n",
      "Position : Accountant\n",
      "Salary : 78000\n",
      "Employee Name : Pratiksha Tamang\n",
      "Position : Data Analyst\n",
      "Salary : 80000\n"
     ]
    }
   ],
   "source": [
    "class Employee:\n",
    "    def __init__(self,  name= None, position=None, salary=None):\n",
    "        self.name = name\n",
    "        self.position = position \n",
    "        self.salary = salary\n",
    "# method to display the details of the employee\n",
    "    def display(self):\n",
    "        print(f\"Employee Name : {self.name}\")\n",
    "        print(f\"Position : {self.position}\")\n",
    "        print(f\"Salary : {self.salary}\")\n",
    "\n",
    "\n",
    "#method to ask user for employee details\n",
    "\n",
    "    def ask_user(self):\n",
    "        self.name = input(\"Enter employee name :\")\n",
    "        self.position = input(\"Enter Position :\")\n",
    "        self.salary = int(input(\"Enter Salary :\"))\n",
    "# Method a) Ask user\n",
    "employee = Employee()\n",
    "employee.ask_user()  \n",
    "employee.display() \n",
    "\n",
    "# Method b) Parameter passing\n",
    "\n",
    "employee1 = Employee(\"Pratiksha Tamang\", \"Data Analyst\", 80000) # Passing parameters.\n",
    "employee1.display()\n"
   ]
  },
  {
   "cell_type": "code",
   "execution_count": null,
   "metadata": {},
   "outputs": [],
   "source": []
  }
 ],
 "metadata": {
  "kernelspec": {
   "display_name": "Python 3",
   "language": "python",
   "name": "python3"
  },
  "language_info": {
   "codemirror_mode": {
    "name": "ipython",
    "version": 3
   },
   "file_extension": ".py",
   "mimetype": "text/x-python",
   "name": "python",
   "nbconvert_exporter": "python",
   "pygments_lexer": "ipython3",
   "version": "3.13.0"
  }
 },
 "nbformat": 4,
 "nbformat_minor": 2
}
