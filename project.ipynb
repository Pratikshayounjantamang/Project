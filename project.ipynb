{
 "cells": [
  {
   "cell_type": "markdown",
   "metadata": {},
   "source": [
    "Creating a Rock, Scissors and Paper game."
   ]
  },
  {
   "cell_type": "code",
   "execution_count": null,
   "metadata": {},
   "outputs": [
    {
     "name": "stdout",
     "output_type": "stream",
     "text": [
      "Welcome to Rock, Paper, Scissors!\n",
      "Computer chooses : Rock\n",
      "It's a tie!\n",
      "Computer chooses : Scissors\n",
      "You lose! Scissors beats Paper.\n",
      "Invalid input. Please enter Rock, Paper, Scissors.\n",
      "Computer chooses : Scissors\n",
      "It's a tie!\n",
      "Computer chooses : Paper\n",
      "You lose! Paper beats Rock.\n"
     ]
    }
   ],
   "source": [
    "import random\n",
    "def rock_paper_scissors():\n",
    "    print(\"Welcome to Rock, Paper, Scissors!\")\n",
    "\n",
    "    choices = [\"Rock\", \"Paper\", \"Scissors\"] # Define the options\n",
    "\n",
    "\n",
    "    while True: # Game loop\n",
    "        # Get user input\n",
    "        user_choice = input(\"ENter Rock, Paper, Scissors (or ''quit' to exit): \").capitalize()\n",
    "\n",
    "        if user_choice == 'Quit' :\n",
    "            print(\"Thanks for playing!\")\n",
    "            break\n",
    "\n",
    "        if user_choice not in choices:\n",
    "            print(\"Invalid input. Please enter Rock, Paper, Scissors.\")\n",
    "            continue\n",
    "\n",
    "        computer_choice = random.choice(choices) # Get computer choice\n",
    "        print(f\"Computer chooses : {computer_choice}\")\n",
    "\n",
    "        if user_choice == computer_choice: # determine the winner\n",
    "            print(\"It's a tie!\")\n",
    "        elif (user_choice == \"Rock\" and computer_choice == \"Scissors\") or \\\n",
    "             (user_choice == \"Scissors\" and computer_choice == \"Paper\") or \\\n",
    "             (user_choice == \"Paper\" and computer_choice == \"Rock\"):\n",
    "            print(f\"You win! {user_choice} beats {computer_choice}.\")\n",
    "        else:\n",
    "            print(f\"You lose! {computer_choice} beats {user_choice}.\")\n",
    "\n",
    "        play_again = input(\"Do you want to play again? (yes/no): \").lower() # Ask the player wants to play again or not\n",
    "        if play_again != 'yes':\n",
    "            print(\"Thanks for playing!\")\n",
    "            break\n",
    "# Start the game\n",
    "rock_paper_scissors()"
   ]
  }
 ],
 "metadata": {
  "kernelspec": {
   "display_name": "Python 3",
   "language": "python",
   "name": "python3"
  },
  "language_info": {
   "codemirror_mode": {
    "name": "ipython",
    "version": 3
   },
   "file_extension": ".py",
   "mimetype": "text/x-python",
   "name": "python",
   "nbconvert_exporter": "python",
   "pygments_lexer": "ipython3",
   "version": "3.13.0"
  }
 },
 "nbformat": 4,
 "nbformat_minor": 2
}
