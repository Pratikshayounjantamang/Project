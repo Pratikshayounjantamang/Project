{
 "cells": [
  {
   "cell_type": "markdown",
   "metadata": {},
   "source": [
    "1. Write a program that asks the user to enter a number and checks whether the number is even or odd."
   ]
  },
  {
   "cell_type": "code",
   "execution_count": 3,
   "metadata": {},
   "outputs": [
    {
     "name": "stdout",
     "output_type": "stream",
     "text": [
      "8 is the even number.\n"
     ]
    }
   ],
   "source": [
    "n = int(input(\"Enter a number :\"))\n",
    "if n % 2 == 0:\n",
    "    print(f\"{n} is the even number.\")\n",
    "else:\n",
    "    print(f\"{n} is the odd number.\")"
   ]
  },
  {
   "cell_type": "markdown",
   "metadata": {},
   "source": [
    "2. Write a program that asks the user to enter a number and checks whether it is positive, negative , or zero."
   ]
  },
  {
   "cell_type": "code",
   "execution_count": 13,
   "metadata": {},
   "outputs": [
    {
     "name": "stdout",
     "output_type": "stream",
     "text": [
      "The number is positive.\n"
     ]
    }
   ],
   "source": [
    "num = int(input(\"Enter a number :\"))\n",
    "if num > 3:\n",
    "    print(f\"The number is positive.\")\n",
    "elif num < 3:\n",
    "    print(f\"The number is negative.\")\n",
    "else:\n",
    "    print(f\"The number is zero.\")\n"
   ]
  },
  {
   "cell_type": "markdown",
   "metadata": {},
   "source": [
    "3. Write a program that asks the user to enter the age and checks whether they are eligible to vote or not(18 years or older)."
   ]
  },
  {
   "cell_type": "code",
   "execution_count": 16,
   "metadata": {},
   "outputs": [
    {
     "name": "stdout",
     "output_type": "stream",
     "text": [
      "He/She is eligible to vote.\n"
     ]
    }
   ],
   "source": [
    "age =int(input(\"Enter your age :\"))\n",
    "if age >= 18:\n",
    "    print(f\"He/She is eligible to vote.\")\n",
    "else:\n",
    "    print(f\"He/She is not eligible to vote.\")"
   ]
  },
  {
   "cell_type": "markdown",
   "metadata": {},
   "source": [
    "4. Write a program that takes the length of three sides of a triangle as input and determine if the triangle is :\n",
    "Equilateral, Isosceles, Scalene."
   ]
  },
  {
   "cell_type": "code",
   "execution_count": null,
   "metadata": {},
   "outputs": [
    {
     "name": "stdout",
     "output_type": "stream",
     "text": [
      "The triangle is Isosceles.\n"
     ]
    }
   ],
   "source": [
    "a = float(input(\"Enter the length of side 1 :\"))\n",
    "b = float(input(\"Enter the length of side 2 :\"))\n",
    "c = float(input(\"Enter the length of side 3 :\"))\n",
    "\n",
    "if a + b > c and a + c > b and b + c > a: # check the type of a triangle.\n",
    "   if a == b == c:# if all sides are equal then it is equilateral triangle.\n",
    "    print(\"The triangle is Equilateral.\")\n",
    "elif a == b or a == c or b == c:   # if two sides of a triangle is equal then it is considered as isoceles triangle.\n",
    "    print(\"The triangle is Isosceles.\")\n",
    "else:\n",
    "     print(\"The triangle is Scalene.\") # if all the sides are different then it is scalene triangle.\n"
   ]
  },
  {
   "cell_type": "markdown",
   "metadata": {},
   "source": [
    "5. Write a program that asks the user to enter a password and checks if it matches a predefined password (e.g., \"Python123\")"
   ]
  },
  {
   "cell_type": "code",
   "execution_count": 20,
   "metadata": {},
   "outputs": [
    {
     "name": "stdout",
     "output_type": "stream",
     "text": [
      "Password is not matched.\n"
     ]
    }
   ],
   "source": [
    "predefined_password = \"Python123\"  # predefined password\n",
    "\n",
    "password = input(\"Enter your password :\")\n",
    "\n",
    "if password == predefined_password:\n",
    "    print(\"Password is matched.\") # if the password matches.\n",
    "else:\n",
    "    print(\"Password is not matched.\")"
   ]
  }
 ],
 "metadata": {
  "kernelspec": {
   "display_name": "Python 3",
   "language": "python",
   "name": "python3"
  },
  "language_info": {
   "codemirror_mode": {
    "name": "ipython",
    "version": 3
   },
   "file_extension": ".py",
   "mimetype": "text/x-python",
   "name": "python",
   "nbconvert_exporter": "python",
   "pygments_lexer": "ipython3",
   "version": "3.13.0"
  }
 },
 "nbformat": 4,
 "nbformat_minor": 2
}
