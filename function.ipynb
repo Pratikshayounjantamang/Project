{
 "cells": [
  {
   "cell_type": "markdown",
   "metadata": {},
   "source": [
    "1. Write a function factorial(n) that returns the factorial of a number using a for loop."
   ]
  },
  {
   "cell_type": "code",
   "execution_count": 18,
   "metadata": {},
   "outputs": [
    {
     "name": "stdout",
     "output_type": "stream",
     "text": [
      "The factorial of 5 is 120.\n"
     ]
    }
   ],
   "source": [
    "num = int(input(\"Enter a number :\"))\n",
    "def factorial(n):\n",
    "    fact = 1\n",
    "    for i in range(1, n + 1):\n",
    "        fact *= i\n",
    "    return fact\n",
    "print(f\"The factorial of {num} is {factorial (num)}.\")\n",
    "    "
   ]
  },
  {
   "cell_type": "markdown",
   "metadata": {},
   "source": [
    "2. Create a function is_prime(n) to check whether a number is prime or not. "
   ]
  },
  {
   "cell_type": "code",
   "execution_count": 3,
   "metadata": {},
   "outputs": [
    {
     "name": "stdout",
     "output_type": "stream",
     "text": [
      "True\n"
     ]
    }
   ],
   "source": [
    "def is_prime(n):\n",
    "    if n <= 1:\n",
    "        return False\n",
    "    \n",
    "    for i in range(2, int(n ** 0.5) + 1):\n",
    "        if n % i == 0:\n",
    "            return False\n",
    "        \n",
    "        return True\n",
    "num = 7 \n",
    "result = is_prime(num)\n",
    "print(result)"
   ]
  },
  {
   "cell_type": "markdown",
   "metadata": {},
   "source": [
    "3. Write a function to find_max(lst) to find and return the maximum value in a list."
   ]
  },
  {
   "cell_type": "code",
   "execution_count": 31,
   "metadata": {},
   "outputs": [
    {
     "name": "stdout",
     "output_type": "stream",
     "text": [
      "The maximum value is : 7\n"
     ]
    }
   ],
   "source": [
    "def find_max(lst):\n",
    "    if not lst: # checks if the list is empty\n",
    "       return None # return none if list is empty\n",
    "    max_value = lst[0] # start by assuming the first element is the maximum\n",
    "    for num in lst:\n",
    "        if num > max_value:\n",
    "            max_value = num # update max_value if a larger number is found\n",
    "    return max_value\n",
    "# Input list\n",
    "list = [1,3,7,0]\n",
    "print(f\"The maximum value is : {find_max(list)}\")"
   ]
  },
  {
   "cell_type": "markdown",
   "metadata": {},
   "source": [
    "4. Write a function palindrome_check (string) that returns True if the given string is a palindrome , otherwise False."
   ]
  },
  {
   "cell_type": "code",
   "execution_count": 2,
   "metadata": {},
   "outputs": [
    {
     "name": "stdout",
     "output_type": "stream",
     "text": [
      "True\n"
     ]
    }
   ],
   "source": [
    "def palindrome_check(string):\n",
    "    if string == string[::-1]:\n",
    "        return True\n",
    "    else:\n",
    "        return False\n",
    "    \n",
    "input_string = \"radar\"\n",
    "result =palindrome_check(input_string)\n",
    "print(result)"
   ]
  },
  {
   "cell_type": "markdown",
   "metadata": {},
   "source": [
    "5. Write a function sum_of_squares(n) that returns the sum of squares of the first n natural numbers."
   ]
  },
  {
   "cell_type": "code",
   "execution_count": 7,
   "metadata": {},
   "outputs": [
    {
     "name": "stdout",
     "output_type": "stream",
     "text": [
      "The sum of squares of the first 6 natural numbers is : 91. \n"
     ]
    }
   ],
   "source": [
    "def sum_of_squares(n):\n",
    "    total_sum = 0\n",
    "    for i in range(1, 7):\n",
    "        total_sum += i **2\n",
    "    return total_sum\n",
    "\n",
    "#  taking input from the user\n",
    "n = input(\"Enter a number :\")\n",
    "result = sum_of_squares(n)\n",
    "print(f\"The sum of squares of the first {n} natural numbers is : {result}. \")"
   ]
  },
  {
   "cell_type": "markdown",
   "metadata": {},
   "source": [
    "6. Write a function sum_squares(n) that returns the sum of squares of the first n natural numbers.\n",
    "Example: Input=3, Output = 1^2 + 2^2 + 3^2 = 14"
   ]
  },
  {
   "cell_type": "code",
   "execution_count": 8,
   "metadata": {},
   "outputs": [
    {
     "name": "stdout",
     "output_type": "stream",
     "text": [
      "The sum of squares of the first 3 natural numbers is : 14.\n"
     ]
    }
   ],
   "source": [
    "def sum_of_squares(n):\n",
    "    total_sum = 0\n",
    "    for i in range(1, n + 1):\n",
    "        total_sum += i **2\n",
    "    return total_sum\n",
    "# Taking input from the user\n",
    "num = 3\n",
    "result = sum_of_squares(num)\n",
    "print(f\"The sum of squares of the first {num} natural numbers is : {result}.\")"
   ]
  },
  {
   "cell_type": "markdown",
   "metadata": {},
   "source": []
  }
 ],
 "metadata": {
  "kernelspec": {
   "display_name": "Python 3",
   "language": "python",
   "name": "python3"
  },
  "language_info": {
   "codemirror_mode": {
    "name": "ipython",
    "version": 3
   },
   "file_extension": ".py",
   "mimetype": "text/x-python",
   "name": "python",
   "nbconvert_exporter": "python",
   "pygments_lexer": "ipython3",
   "version": "3.13.0"
  }
 },
 "nbformat": 4,
 "nbformat_minor": 2
}
