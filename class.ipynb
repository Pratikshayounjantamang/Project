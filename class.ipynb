{
 "cells": [
  {
   "cell_type": "markdown",
   "metadata": {},
   "source": [
    "1. Define a Class Rectangle with:\n",
    "Two attributes: length and width.\n",
    "A method area() to calculate the area.\n",
    "A method perimeter() to calculate the perimeter."
   ]
  },
  {
   "cell_type": "code",
   "execution_count": 2,
   "metadata": {},
   "outputs": [
    {
     "name": "stdout",
     "output_type": "stream",
     "text": [
      "Area of rectangle is : 20\n",
      "Perimeter of rectangle is : 18\n"
     ]
    }
   ],
   "source": [
    "class Rectangle:\n",
    "    def __init__(self, length, width):\n",
    "        self.length = length\n",
    "        self.width = width\n",
    "\n",
    "    def area(self):\n",
    "        return self.length * self.width\n",
    "\n",
    "    def perimeter(self):\n",
    "        return 2 * (self.length + self.width)\n",
    "\n",
    "rect = Rectangle(5,4)\n",
    "print(\"Area of rectangle is :\", rect.area())\n",
    "print(\"Perimeter of rectangle is :\", rect.perimeter())"
   ]
  },
  {
   "cell_type": "markdown",
   "metadata": {},
   "source": [
    "2. Create a class student with:\n",
    "Attributes: name, roll_number, and marks.\n",
    "A method to display_details() to print the student's details.\n",
    "A method is_passed() that returns True if marks >= 40, else False."
   ]
  },
  {
   "cell_type": "code",
   "execution_count": 16,
   "metadata": {},
   "outputs": [
    {
     "name": "stdout",
     "output_type": "stream",
     "text": [
      "Name is : Pratiksha Tamang\n",
      "Roll Number is : 12\n",
      "Marks is : 89\n",
      "passed : True\n",
      "Name is : Gita Bhandari\n",
      "Roll Number is : 9\n",
      "Marks is : 34\n",
      "passed : False\n"
     ]
    }
   ],
   "source": [
    "class Student:\n",
    "    def __init__(self, name, roll_number, marks): # constructor to initialize name, roll_number, marks.\n",
    "        self.name = name\n",
    "        self.roll_number = roll_number\n",
    "        self.marks = marks\n",
    "    \n",
    "    def display_details(self): # dispalying attributes\n",
    "        print(f\"Name is : {self.name}\")\n",
    "        print(f\"Roll Number is : {self.roll_number}\")\n",
    "        print(f\"Marks is : {self.marks}\")\n",
    "\n",
    "    def is_passed(self): # check whether student has passed or not.\n",
    "        return self.marks >= 40\n",
    "\n",
    "student1 = Student(\"Pratiksha Tamang\", \"12\", 89) # Creating student attributes with marks and roll number\n",
    "student1.display_details() # print student details\n",
    "print(\"passed :\", student1. is_passed())\n",
    "\n",
    "student2 = Student(\"Gita Bhandari\", \"9\", 34)\n",
    "student2.display_details()\n",
    "print(\"passed :\", student2. is_passed())\n",
    "\n"
   ]
  },
  {
   "cell_type": "markdown",
   "metadata": {},
   "source": [
    "3. Define a class Circle with :\n",
    "Attributes:radius,\n",
    "Methods: area() to calculate the area, circumference() to calculate the circumference."
   ]
  },
  {
   "cell_type": "code",
   "execution_count": 26,
   "metadata": {},
   "outputs": [
    {
     "name": "stdout",
     "output_type": "stream",
     "text": [
      "Area : 12.566370614359172\n",
      "circumference: 12.566370614359172\n"
     ]
    }
   ],
   "source": [
    "import math\n",
    "class Circle:\n",
    "    def __init__(self,radius):\n",
    "        self.radius = radius\n",
    "        \n",
    "    def area(self):\n",
    "        return math.pi * (self.radius ** 2)\n",
    "    \n",
    "    def circumference(self):\n",
    "        return 2 * math.pi * self.radius\n",
    "    \n",
    "\n",
    "circle = Circle(2)\n",
    "print(\"Area :\", circle.area())\n",
    "print(\"circumference:\", circle.circumference()) "
   ]
  },
  {
   "cell_type": "markdown",
   "metadata": {},
   "source": [
    "4. Create a class BankAccount with:\n",
    "Attributes : account_number, account_holder, balance.\n",
    "Methods : deposit(amount) to add money to the account.\n",
    "Withdraw(amount) to subtract money (if sufficient balance is available).\n",
    "diplay_balance() to print the current balance."
   ]
  },
  {
   "cell_type": "code",
   "execution_count": 6,
   "metadata": {},
   "outputs": [
    {
     "name": "stdout",
     "output_type": "stream",
     "text": [
      "Deposited Amount : 1500, New Balance : 13247\n",
      "Withdrawal Amount : 2000, New Balance : 11247\n",
      "Account Current Balance is : 11247\n"
     ]
    }
   ],
   "source": [
    "class BankAccount:\n",
    "    def __init__(self, account_number, account_holder, balance = 0): # constructor to initialize attributes\n",
    "        self.account_number = account_number\n",
    "        self.account_holder = account_holder\n",
    "        self.balance = balance\n",
    "#method to display money into account\n",
    "    def deposit(self, amount):\n",
    "        if amount > 0:\n",
    "            self.balance += amount\n",
    "            print(f\"Deposited Amount : {amount}, New Balance : {self.balance}\")\n",
    "        else:\n",
    "            print(\"Deposited Amount must be greater than Zero.\")\n",
    "\n",
    "    def withdraw(self, amount): # method to withdraw money from bankaccount(if sufficient balance is availabel)\n",
    "        if amount > 0:\n",
    "            if self.balance > amount:\n",
    "                self.balance -= amount\n",
    "                print(f\"Withdrawal Amount : {amount}, New Balance : {self.balance}\")\n",
    "    \n",
    "    def display_balance(self): # method to display current balance\n",
    "        print(f\"Account Current Balance is : {self.balance}\")\n",
    "\n",
    "# taking input from the user\n",
    "account = BankAccount(8677352628, \"Pratiksha Tamang\", 11747)\n",
    "account.deposit(1500)\n",
    "account.withdraw(2000)\n",
    "account.display_balance()"
   ]
  },
  {
   "cell_type": "markdown",
   "metadata": {},
   "source": [
    "5. A class Book with:\n",
    "Attributes : title,author,price.\n",
    "Methods:\n",
    "apply_discount(discount) to reduce the price by a given percentage.\n",
    "display_details() to print the book detail."
   ]
  },
  {
   "cell_type": "code",
   "execution_count": 7,
   "metadata": {},
   "outputs": [
    {
     "name": "stdout",
     "output_type": "stream",
     "text": [
      "Title : Muna Madan\n",
      "Author : Laxmi Prasad Devkota\n",
      "Price : $1500\n",
      "Price after discount applied : 1350.0\n"
     ]
    }
   ],
   "source": [
    "class Book:\n",
    "    def __init__(self, title, author, price):\n",
    "        self.title = title\n",
    "        self.author = author\n",
    "        self.price = price\n",
    "\n",
    "\n",
    "\n",
    "    def apply_discount(self, discount):\n",
    "        if 0 <= discount <= 100:\n",
    "            self.price -= self.price * (discount / 100)\n",
    "            print(f\"Price after discount applied : {self.price}\")\n",
    "        else:\n",
    "            print(\"Invalid discount percentage. It should be between 0 and 100\")\n",
    "\n",
    "\n",
    "    def display_details(self):\n",
    "        print(f\"Title : {self.title}\")\n",
    "        print(f\"Author : {self.author}\")\n",
    "        print(f\"Price : ${self.price:}\")\n",
    "\n",
    "# input the user\n",
    "book = Book(\"Muna Madan\", \"Laxmi Prasad Devkota\", 1500)\n",
    "book.display_details()\n",
    "book.apply_discount(10)\n"
   ]
  },
  {
   "cell_type": "markdown",
   "metadata": {},
   "source": [
    "6. Create a class Calculator with:\n",
    "A method add(a,b) to add two numbers.\n",
    "A method subtract(a,b) to subtract two numbers.\n",
    "A method multiply(a,b) to multiply two numbers.\n",
    "A method divide (a,b) to divide two numbers(handle division by zero gracefully)"
   ]
  },
  {
   "cell_type": "code",
   "execution_count": 3,
   "metadata": {},
   "outputs": [
    {
     "name": "stdout",
     "output_type": "stream",
     "text": [
      "Addition : 25\n",
      "Subtraction : 15\n",
      "Multiplication : 100\n",
      "Division : 4.0\n"
     ]
    }
   ],
   "source": [
    "class Calculator:\n",
    "    def add(self, a, b):\n",
    "        return a + b\n",
    "    \n",
    "    def subtract(self, a, b):\n",
    "        return a - b\n",
    "    \n",
    "    def multiply(self, a, b):\n",
    "        return a * b\n",
    "    \n",
    "    def divide(self, a, b):\n",
    "        if b != 0:\n",
    "            return a / b\n",
    "        else:\n",
    "            return \"Cannot divide by zero!\"\n",
    "        \n",
    "calc = Calculator()\n",
    "\n",
    "print(\"Addition :\", calc.add(20, 5))\n",
    "print(\"Subtraction :\", calc.subtract(20, 5))\n",
    "print(\"Multiplication :\", calc.multiply(20, 5))\n",
    "print(\"Division :\", calc.divide(20, 5))"
   ]
  },
  {
   "cell_type": "markdown",
   "metadata": {},
   "source": [
    "7. Write a class Person with:\n",
    "Attributes: name, age, gender.\n",
    "Method introduce() to print a message like: \"Hello, my name is [name], I am [age] years old, and I am a [gender].\"\n",
    "create a subclass Employee that adds:\n",
    "Attribute: job_title\n",
    "Override introduce() to include the job title."
   ]
  },
  {
   "cell_type": "code",
   "execution_count": 3,
   "metadata": {},
   "outputs": [
    {
     "name": "stdout",
     "output_type": "stream",
     "text": [
      "Hello, my name is Pratiksha Tamang, I am 20 years old, and I am a Female.\n",
      "Hello, my name is Simon Tamang, I am 29 years old, I am a Male, and I work as a Computer system analyst.\n"
     ]
    }
   ],
   "source": [
    "class Person:\n",
    "    def __init__(self, name, age, gender):\n",
    "        self.name = name\n",
    "        self.age = age\n",
    "        self.gender = gender\n",
    "\n",
    "    def introduce(self):# method to introduce the person\n",
    "        print(f\"Hello, my name is {self.name}, I am {self.age} years old, and I am a {self.gender}.\")\n",
    "    \n",
    "class Employee(Person): # subclass employee that inherits from person\n",
    "\n",
    "    def __init__(self, name, age, gender, job_title):\n",
    "        super().__init__(name, age, gender) #calling parent class constructor.\n",
    "        self.job_title = job_title \n",
    "\n",
    "# override introduce\n",
    "    def introduce(self):\n",
    "        print(f\"Hello, my name is { self.name}, I am {self.age} years old, I am a {self.gender}, and I work as a {self.job_title}.\")\n",
    "\n",
    "person = Person(\"Pratiksha Tamang\", 20, \"Female\")\n",
    "person.introduce() # call introduce for the person class.\n",
    "\n",
    "employee = Employee(\"Simon Tamang\", 29, \"Male\", \"Computer system analyst\")\n",
    "employee.introduce()# call the overriden introduce for the employee class "
   ]
  }
 ],
 "metadata": {
  "kernelspec": {
   "display_name": "Python 3",
   "language": "python",
   "name": "python3"
  },
  "language_info": {
   "codemirror_mode": {
    "name": "ipython",
    "version": 3
   },
   "file_extension": ".py",
   "mimetype": "text/x-python",
   "name": "python",
   "nbconvert_exporter": "python",
   "pygments_lexer": "ipython3",
   "version": "3.13.0"
  }
 },
 "nbformat": 4,
 "nbformat_minor": 2
}
