{
 "cells": [
  {
   "cell_type": "markdown",
   "metadata": {},
   "source": [
    "6. Write a Python program to print the multiplication table of a given number using a for loop."
   ]
  },
  {
   "cell_type": "markdown",
   "metadata": {},
   "source": []
  },
  {
   "cell_type": "code",
   "execution_count": 3,
   "metadata": {},
   "outputs": [
    {
     "name": "stdout",
     "output_type": "stream",
     "text": [
      "5 * 1 = 5\n",
      "5 * 2 = 10\n",
      "5 * 3 = 15\n",
      "5 * 4 = 20\n",
      "5 * 5 = 25\n",
      "5 * 6 = 30\n",
      "5 * 7 = 35\n",
      "5 * 8 = 40\n",
      "5 * 9 = 45\n",
      "5 * 10 = 50\n"
     ]
    }
   ],
   "source": [
    "num = int(input(\"Enter a number to print its multiplication table :\"))\n",
    "\n",
    "for i in range(1,11):\n",
    "    print(f\"{num} * {i} = {num * i}\")"
   ]
  },
  {
   "cell_type": "markdown",
   "metadata": {},
   "source": [
    "7. Write a program to count and display the number of vowels in a given string."
   ]
  },
  {
   "cell_type": "code",
   "execution_count": null,
   "metadata": {},
   "outputs": [
    {
     "name": "stdout",
     "output_type": "stream",
     "text": [
      "Number of vowels in the given string : 3\n"
     ]
    }
   ],
   "source": [
    "vow = input(\"Enter a string :\")\n",
    "\n",
    "vowels = \"aeiouAEIOU\" # LIST OF VOWELS\n",
    "\n",
    "vowel_count = 0 # initialize a counter for vowels\n",
    "\n",
    "for char in vow:\n",
    "    if char in vowels:\n",
    "        vowel_count += 1\n",
    "\n",
    "print(f\"Number of vowels in the given string : {vowel_count}\")\n",
    "\n"
   ]
  },
  {
   "cell_type": "markdown",
   "metadata": {},
   "source": [
    "8. Sum of even numbers create a program to find the sum of all even numbers in a list using a for loop."
   ]
  },
  {
   "cell_type": "code",
   "execution_count": 6,
   "metadata": {},
   "outputs": [
    {
     "name": "stdout",
     "output_type": "stream",
     "text": [
      "Sum of even numbers in the list : 10\n"
     ]
    }
   ],
   "source": [
    "numbers = [2, 5, 8, 3] # list of numbers\n",
    "\n",
    "even_sum = 0\n",
    "\n",
    "for num in numbers:\n",
    "    if num % 2 == 0: # check if the number is even or odd\n",
    "        even_sum += num # Add even number to the sum\n",
    "\n",
    "print(f\"Sum of even numbers in the list : {even_sum}\")\n",
    "\n"
   ]
  },
  {
   "cell_type": "markdown",
   "metadata": {},
   "source": [
    "9. Create a program to find the largest and smallest numbers in a list using a for loop."
   ]
  },
  {
   "cell_type": "code",
   "execution_count": 9,
   "metadata": {},
   "outputs": [
    {
     "name": "stdout",
     "output_type": "stream",
     "text": [
      "The smallest number in the list is : 5\n",
      "The largest number in the list is : 20\n"
     ]
    }
   ],
   "source": [
    "numbers = [10, 20, 5, 8] # list of numbers\n",
    "\n",
    "# initializing variables to store the smallest and largest numbers.\n",
    "small = numbers[0]\n",
    "large = numbers[0]\n",
    "\n",
    "for num in numbers:\n",
    "    if num < small:\n",
    "        small = num # update smallest number\n",
    "    if num > large:\n",
    "        large = num # update largest number\n",
    "\n",
    "print(f\"The smallest number in the list is : {small}\")\n",
    "print(f\"The largest number in the list is : {large}\")\n"
   ]
  },
  {
   "cell_type": "markdown",
   "metadata": {},
   "source": [
    "10. Write a program to calculate the sum of digits of a given number using a for loop. Example: Input = 1234, Output = 10"
   ]
  },
  {
   "cell_type": "code",
   "execution_count": 10,
   "metadata": {},
   "outputs": [
    {
     "name": "stdout",
     "output_type": "stream",
     "text": [
      "The sum of the digits of 1234 is : 10\n"
     ]
    }
   ],
   "source": [
    "num = int(input(\"Enter a number :\"))\n",
    "\n",
    "sum_digit = 0 # initialize the sum of digits to 0\n",
    "\n",
    "for digit in str(num):\n",
    "    sum_digit += int(digit)\n",
    "\n",
    "print(f\"The sum of the digits of {num} is : {sum_digit}\")"
   ]
  },
  {
   "cell_type": "markdown",
   "metadata": {},
   "source": [
    "11. Write a program to reverse a given string using a for loop. Example: Input = \"Python\" Output = \"nohtyP\""
   ]
  },
  {
   "cell_type": "code",
   "execution_count": 11,
   "metadata": {},
   "outputs": [
    {
     "name": "stdout",
     "output_type": "stream",
     "text": [
      "The reversed string is : nohtyP\n"
     ]
    }
   ],
   "source": [
    "str = input(\"Enter a string :\")\n",
    "\n",
    "reversed_string = \"\" # initialize an empty string to store the reversed string\n",
    "\n",
    "for char in str:\n",
    "    reversed_string = char + reversed_string # Add each character at the beginning\n",
    "\n",
    "print(f\"The reversed string is : {reversed_string}\")"
   ]
  }
 ],
 "metadata": {
  "kernelspec": {
   "display_name": "Python 3",
   "language": "python",
   "name": "python3"
  },
  "language_info": {
   "codemirror_mode": {
    "name": "ipython",
    "version": 3
   },
   "file_extension": ".py",
   "mimetype": "text/x-python",
   "name": "python",
   "nbconvert_exporter": "python",
   "pygments_lexer": "ipython3",
   "version": "3.13.0"
  }
 },
 "nbformat": 4,
 "nbformat_minor": 2
}
