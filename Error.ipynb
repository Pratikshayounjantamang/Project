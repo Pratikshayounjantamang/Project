{
 "cells": [
  {
   "cell_type": "markdown",
   "metadata": {},
   "source": [
    "1. Division with Error Handling: Write a program that takes two numbers as input and divides the first number by the second.\n",
    "Use try and except to handle the division by zero error."
   ]
  },
  {
   "cell_type": "code",
   "execution_count": 3,
   "metadata": {},
   "outputs": [
    {
     "name": "stdout",
     "output_type": "stream",
     "text": [
      "Error: Cannot divide by zero. Please enter a non-zero value for the second number.\n"
     ]
    }
   ],
   "source": [
    "try: \n",
    "    num1 = int(input(\"Enter the first number :\")) # taking input from the user\n",
    "    num2 = int(input(\"Enter the second number :\"))\n",
    "\n",
    "    result = num1 / num2 # performing division.\n",
    "    print(f\"The result of {num1} divided by {num2} is : {result}.\")\n",
    "\n",
    "except ZeroDivisionError:\n",
    "    print(\"Error: Cannot divide by zero. Please enter a non-zero value for the second number.\")\n",
    "except ValueError:\n",
    "    print(\"Error: Invalid input. Please enter a valid numeric values.\")"
   ]
  },
  {
   "cell_type": "markdown",
   "metadata": {},
   "source": [
    "2. Integer Input Validation: Create a program that asks the user to input an integer.\n",
    "Use try,except, and else to handle invalid input.\n",
    "Example: Input = abc\n",
    "Output = \" Invalid input, please enter an integer.\""
   ]
  },
  {
   "cell_type": "code",
   "execution_count": null,
   "metadata": {},
   "outputs": [
    {
     "name": "stdout",
     "output_type": "stream",
     "text": [
      "You entered the integer : 123.\n"
     ]
    }
   ],
   "source": [
    "try:\n",
    "    user_input = input(\"Please enter an integer :\") # Taking input from the user\n",
    "    user_input = int(user_input) # converting the input to an integer\n",
    "\n",
    "except ValueError:\n",
    "    print(\"Invalid input, please enter an integer.\") # Handling the case where input is not an integer.\n",
    "else:\n",
    "    print(f\"You entered the integer : {user_input}.\") # if the input is valid, print the integer value."
   ]
  },
  {
   "cell_type": "markdown",
   "metadata": {},
   "source": [
    "3. File Not Found Error Handling: Write a script that:\n",
    "Opens a file named unknown.txt.\n",
    "Handles the FileNotFoundError gracefully and prints an appropriate message."
   ]
  },
  {
   "cell_type": "code",
   "execution_count": 6,
   "metadata": {},
   "outputs": [
    {
     "name": "stdout",
     "output_type": "stream",
     "text": [
      "Error: The file'unknown.txt' was not found. Please check the file name and try again.\n"
     ]
    }
   ],
   "source": [
    "try:\n",
    "    with open('unknown.txt', 'r') as file: # trying to open the file named unknown.txt\n",
    "        content = file.read()  # if file is found, read and print its contents.\n",
    "        print(content)\n",
    "\n",
    "except FileNotFoundError:\n",
    "    print(\"Error: The file'unknown.txt' was not found. Please check the file name and try again.\")"
   ]
  }
 ],
 "metadata": {
  "kernelspec": {
   "display_name": "Python 3",
   "language": "python",
   "name": "python3"
  },
  "language_info": {
   "codemirror_mode": {
    "name": "ipython",
    "version": 3
   },
   "file_extension": ".py",
   "mimetype": "text/x-python",
   "name": "python",
   "nbconvert_exporter": "python",
   "pygments_lexer": "ipython3",
   "version": "3.13.0"
  }
 },
 "nbformat": 4,
 "nbformat_minor": 2
}
